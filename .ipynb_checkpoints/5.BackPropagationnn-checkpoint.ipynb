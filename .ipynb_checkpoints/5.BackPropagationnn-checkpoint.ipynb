{
 "cells": [
  {
   "cell_type": "code",
   "execution_count": 1,
   "id": "f0c62f60",
   "metadata": {},
   "outputs": [],
   "source": [
    "import numpy as np\n",
    "import pandas as pd \n",
    "import seaborn as sns "
   ]
  },
  {
   "cell_type": "code",
   "execution_count": 2,
   "id": "760d7876",
   "metadata": {},
   "outputs": [],
   "source": [
    "il = 3\n",
    "hl = 2\n",
    "op_neu = 1 "
   ]
  },
  {
   "cell_type": "code",
   "execution_count": 3,
   "id": "dda95d04",
   "metadata": {},
   "outputs": [
    {
     "name": "stdout",
     "output_type": "stream",
     "text": [
      "3\n",
      "2\n",
      "1\n"
     ]
    }
   ],
   "source": [
    "print(il)\n",
    "print(hl)\n",
    "print(op_neu)"
   ]
  },
  {
   "cell_type": "code",
   "execution_count": 4,
   "id": "830e5c5f",
   "metadata": {},
   "outputs": [],
   "source": [
    "wh = np.random.uniform(il, hl)\n",
    "bh = np.random.uniform(1, hl)\n",
    "wout = np.random.uniform(hl, op_neu)\n",
    "bout = np.random.uniform(1, op_neu)"
   ]
  },
  {
   "cell_type": "code",
   "execution_count": 5,
   "id": "99186ca6",
   "metadata": {},
   "outputs": [
    {
     "name": "stdout",
     "output_type": "stream",
     "text": [
      "2.4431216540116276\n",
      "1.3627980777366802\n",
      "1.4246403616071497\n",
      "1.0\n"
     ]
    }
   ],
   "source": [
    "print(wh)\n",
    "print(bh)\n",
    "print(wout)\n",
    "print(bout)"
   ]
  },
  {
   "cell_type": "code",
   "execution_count": 6,
   "id": "6b579aa8",
   "metadata": {},
   "outputs": [],
   "source": [
    "epoch = 7000\n",
    "lr = 0.1\n",
    "\n",
    "def sigmond(x):\n",
    "    return x/(1+ np.exp(-x))\n",
    "def derivative_sigmond(x):\n",
    "    return x*(1-x)\n",
    "\n",
    "X = np.array(([2,9],[1,5],[3,9]), dtype = float)\n",
    "y = np.array(([62], [89], [82]), dtype = float)\n",
    "X = X/np.amax(X, axis=0)\n",
    "y = y/100"
   ]
  },
  {
   "cell_type": "code",
   "execution_count": 7,
   "id": "69757312",
   "metadata": {},
   "outputs": [
    {
     "ename": "AttributeError",
     "evalue": "'float' object has no attribute 'T'",
     "output_type": "error",
     "traceback": [
      "\u001b[1;31m---------------------------------------------------------------------------\u001b[0m",
      "\u001b[1;31mAttributeError\u001b[0m                            Traceback (most recent call last)",
      "Cell \u001b[1;32mIn[7], line 13\u001b[0m\n\u001b[0;32m     11\u001b[0m outgrad \u001b[38;5;241m=\u001b[39m derivative_sigmond(output)\n\u001b[0;32m     12\u001b[0m d_output \u001b[38;5;241m=\u001b[39m EO\u001b[38;5;241m*\u001b[39moutgrad\n\u001b[1;32m---> 13\u001b[0m EH \u001b[38;5;241m=\u001b[39m d_output\u001b[38;5;241m.\u001b[39mdot(\u001b[43mwout\u001b[49m\u001b[38;5;241;43m.\u001b[39;49m\u001b[43mT\u001b[49m)\n\u001b[0;32m     15\u001b[0m hiddengrad \u001b[38;5;241m=\u001b[39m derivative_sigmond(hlayer_act)\n\u001b[0;32m     16\u001b[0m d_hiddenlayer \u001b[38;5;241m=\u001b[39m EH\u001b[38;5;241m*\u001b[39mhiddengrad\n",
      "\u001b[1;31mAttributeError\u001b[0m: 'float' object has no attribute 'T'"
     ]
    }
   ],
   "source": [
    "for i in range(epoch):\n",
    "    hinp1 = np.dot(X, wh)\n",
    "    hinp = hinp1 + bh\n",
    "    hlayer_act = sigmond(hinp)\n",
    "    \n",
    "    outinp1 = np.dot(hlayer_act, wout)\n",
    "    outinp = outinp1 + bout\n",
    "    output = sigmond(outinp)\n",
    "    \n",
    "    EO = y-output\n",
    "    outgrad = derivatives_sigmoid(output)\n",
    "    d_output = EO* outgrad\n",
    "    EH = d_output.dot(wout.T)\n",
    "    \n",
    "    hiddengrad = derivative_sigmond(hlayer_act)\n",
    "    d_hiddenlayer = EH*hiddengrad\n",
    "    wout += hlayer_act.T.dot(d_output)*lr\n",
    "    wh += X.T.dot(d_hiddenlayer)*lr"
   ]
  },
  {
   "cell_type": "code",
   "execution_count": null,
   "id": "4920e014",
   "metadata": {},
   "outputs": [],
   "source": [
    "print(str(X))\n",
    "print(str(y))\n",
    "print(output)"
   ]
  },
  {
   "cell_type": "code",
   "execution_count": null,
   "id": "44b43287",
   "metadata": {},
   "outputs": [],
   "source": []
  }
 ],
 "metadata": {
  "kernelspec": {
   "display_name": "Python 3 (ipykernel)",
   "language": "python",
   "name": "python3"
  },
  "language_info": {
   "codemirror_mode": {
    "name": "ipython",
    "version": 3
   },
   "file_extension": ".py",
   "mimetype": "text/x-python",
   "name": "python",
   "nbconvert_exporter": "python",
   "pygments_lexer": "ipython3",
   "version": "3.10.7"
  }
 },
 "nbformat": 4,
 "nbformat_minor": 5
}
