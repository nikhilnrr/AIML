{
 "cells": [
  {
   "cell_type": "code",
   "execution_count": 1,
   "id": "701a6ff3",
   "metadata": {},
   "outputs": [],
   "source": [
    "import pandas as pd \n",
    "import numpy as np\n",
    "import seaborn as sns\n",
    "\n",
    "from sklearn.preprocessing import LabelEncoder\n",
    "from sklearn.model_selection import train_test_split\n",
    "\n",
    "from sklearn.naive_bayes import GaussianNB\n",
    "\n",
    "from sklearn.metrics import accuracy_score, confusion_matrix"
   ]
  },
  {
   "cell_type": "code",
   "execution_count": 2,
   "id": "9e96db3b",
   "metadata": {},
   "outputs": [],
   "source": [
    "data = sns.load_dataset('iris')"
   ]
  },
  {
   "cell_type": "code",
   "execution_count": 3,
   "id": "737ec14a",
   "metadata": {},
   "outputs": [],
   "source": [
    "x = data.iloc[:, :-1].values"
   ]
  },
  {
   "cell_type": "code",
   "execution_count": 4,
   "id": "8f75c7de",
   "metadata": {},
   "outputs": [],
   "source": [
    "y = data.iloc[:, -1].values"
   ]
  },
  {
   "cell_type": "code",
   "execution_count": 5,
   "id": "783d6074",
   "metadata": {},
   "outputs": [],
   "source": [
    "le = LabelEncoder()\n",
    "y = le.fit_transform(y)"
   ]
  },
  {
   "cell_type": "code",
   "execution_count": 6,
   "id": "3f165633",
   "metadata": {},
   "outputs": [],
   "source": [
    "x_test, x_train, y_test, y_train = train_test_split(x, y, test_size=0.2)"
   ]
  },
  {
   "cell_type": "code",
   "execution_count": 7,
   "id": "ba8fb382",
   "metadata": {},
   "outputs": [],
   "source": [
    "gb = GaussianNB()\n",
    "gb.fit(x_train, y_train)\n",
    "y_predgb = gb.predict(x_test)"
   ]
  },
  {
   "cell_type": "code",
   "execution_count": 8,
   "id": "bf0b6f2f",
   "metadata": {},
   "outputs": [
    {
     "name": "stdout",
     "output_type": "stream",
     "text": [
      "0.9166666666666666\n"
     ]
    }
   ],
   "source": [
    "print(accuracy_score(y_test, y_predgb))"
   ]
  },
  {
   "cell_type": "code",
   "execution_count": 9,
   "id": "5b166a44",
   "metadata": {},
   "outputs": [
    {
     "name": "stdout",
     "output_type": "stream",
     "text": [
      "[[37  0  0]\n",
      " [ 0 38  5]\n",
      " [ 0  5 35]]\n"
     ]
    }
   ],
   "source": [
    "print(confusion_matrix(y_test, y_predgb))"
   ]
  },
  {
   "cell_type": "code",
   "execution_count": 16,
   "id": "b8f7c59e",
   "metadata": {},
   "outputs": [],
   "source": [
    "def n(a):\n",
    "    if a==0:\n",
    "        return(\"setosa\")\n",
    "    elif a == 1:\n",
    "        return(\"virginica\")\n",
    "    else:\n",
    "        return(\"vercicolor\")"
   ]
  },
  {
   "cell_type": "code",
   "execution_count": 17,
   "id": "ad9f5f4c",
   "metadata": {},
   "outputs": [
    {
     "name": "stdout",
     "output_type": "stream",
     "text": [
      "Actual : [6.6 2.9 4.6 1.3], Class Label virginica, predicted virginica\n",
      "Actual : [5.  3.2 1.2 0.2], Class Label setosa, predicted setosa\n",
      "Actual : [5.7 3.  4.2 1.2], Class Label virginica, predicted virginica\n",
      "Actual : [7.6 3.  6.6 2.1], Class Label vercicolor, predicted vercicolor\n",
      "Actual : [5.8 2.6 4.  1.2], Class Label virginica, predicted virginica\n",
      "Actual : [7.7 2.8 6.7 2. ], Class Label vercicolor, predicted vercicolor\n",
      "Actual : [5.7 2.5 5.  2. ], Class Label vercicolor, predicted vercicolor\n",
      "Actual : [5.3 3.7 1.5 0.2], Class Label setosa, predicted setosa\n",
      "Actual : [5.5 2.4 3.7 1. ], Class Label virginica, predicted virginica\n",
      "Actual : [6.8 3.  5.5 2.1], Class Label vercicolor, predicted vercicolor\n",
      "Actual : [6.7 3.1 4.4 1.4], Class Label virginica, predicted virginica\n",
      "Actual : [7.3 2.9 6.3 1.8], Class Label vercicolor, predicted vercicolor\n",
      "Actual : [4.3 3.  1.1 0.1], Class Label setosa, predicted setosa\n",
      "Actual : [5.  3.6 1.4 0.2], Class Label setosa, predicted setosa\n",
      "Actual : [4.8 3.  1.4 0.3], Class Label setosa, predicted setosa\n",
      "Actual : [4.9 3.  1.4 0.2], Class Label setosa, predicted setosa\n",
      "Actual : [4.9 2.4 3.3 1. ], Class Label virginica, predicted virginica\n",
      "Actual : [5.2 4.1 1.5 0.1], Class Label setosa, predicted setosa\n",
      "Actual : [7.7 2.6 6.9 2.3], Class Label vercicolor, predicted vercicolor\n",
      "Actual : [6.4 2.8 5.6 2.1], Class Label vercicolor, predicted vercicolor\n",
      "Actual : [6.  2.2 5.  1.5], Class Label vercicolor, predicted virginica\n",
      "Actual : [6.7 3.1 5.6 2.4], Class Label vercicolor, predicted vercicolor\n",
      "Actual : [6.7 3.  5.  1.7], Class Label virginica, predicted vercicolor\n",
      "Actual : [5.5 2.6 4.4 1.2], Class Label virginica, predicted virginica\n",
      "Actual : [6.7 2.5 5.8 1.8], Class Label vercicolor, predicted vercicolor\n",
      "Actual : [5.8 4.  1.2 0.2], Class Label setosa, predicted setosa\n",
      "Actual : [6.5 3.2 5.1 2. ], Class Label vercicolor, predicted vercicolor\n",
      "Actual : [6.  2.2 4.  1. ], Class Label virginica, predicted virginica\n",
      "Actual : [4.9 3.6 1.4 0.1], Class Label setosa, predicted setosa\n",
      "Actual : [6.5 3.  5.2 2. ], Class Label vercicolor, predicted vercicolor\n",
      "Actual : [7.2 3.6 6.1 2.5], Class Label vercicolor, predicted vercicolor\n",
      "Actual : [5.  2.  3.5 1. ], Class Label virginica, predicted virginica\n",
      "Actual : [7.1 3.  5.9 2.1], Class Label vercicolor, predicted vercicolor\n",
      "Actual : [5.1 3.3 1.7 0.5], Class Label setosa, predicted setosa\n",
      "Actual : [5.6 2.8 4.9 2. ], Class Label vercicolor, predicted vercicolor\n",
      "Actual : [5.4 3.9 1.7 0.4], Class Label setosa, predicted setosa\n",
      "Actual : [6.3 2.8 5.1 1.5], Class Label vercicolor, predicted virginica\n",
      "Actual : [4.9 3.1 1.5 0.2], Class Label setosa, predicted setosa\n",
      "Actual : [6.3 3.4 5.6 2.4], Class Label vercicolor, predicted vercicolor\n",
      "Actual : [4.8 3.  1.4 0.1], Class Label setosa, predicted setosa\n",
      "Actual : [6.3 2.3 4.4 1.3], Class Label virginica, predicted virginica\n",
      "Actual : [5.5 2.3 4.  1.3], Class Label virginica, predicted virginica\n",
      "Actual : [5.8 2.7 4.1 1. ], Class Label virginica, predicted virginica\n",
      "Actual : [7.7 3.  6.1 2.3], Class Label vercicolor, predicted vercicolor\n",
      "Actual : [5.7 2.6 3.5 1. ], Class Label virginica, predicted virginica\n",
      "Actual : [7.7 3.8 6.7 2.2], Class Label vercicolor, predicted vercicolor\n",
      "Actual : [5.8 2.8 5.1 2.4], Class Label vercicolor, predicted vercicolor\n",
      "Actual : [6.6 3.  4.4 1.4], Class Label virginica, predicted virginica\n",
      "Actual : [4.6 3.6 1.  0.2], Class Label setosa, predicted setosa\n",
      "Actual : [6.1 2.6 5.6 1.4], Class Label vercicolor, predicted virginica\n",
      "Actual : [6.3 2.7 4.9 1.8], Class Label vercicolor, predicted vercicolor\n",
      "Actual : [6.5 3.  5.8 2.2], Class Label vercicolor, predicted vercicolor\n",
      "Actual : [6.7 3.3 5.7 2.1], Class Label vercicolor, predicted vercicolor\n",
      "Actual : [5.7 2.9 4.2 1.3], Class Label virginica, predicted virginica\n",
      "Actual : [4.6 3.4 1.4 0.3], Class Label setosa, predicted setosa\n",
      "Actual : [5.1 3.8 1.9 0.4], Class Label setosa, predicted setosa\n",
      "Actual : [6.1 3.  4.6 1.4], Class Label virginica, predicted virginica\n",
      "Actual : [4.7 3.2 1.6 0.2], Class Label setosa, predicted setosa\n",
      "Actual : [5.  3.3 1.4 0.2], Class Label setosa, predicted setosa\n",
      "Actual : [5.1 2.5 3.  1.1], Class Label virginica, predicted virginica\n",
      "Actual : [5.  3.5 1.3 0.3], Class Label setosa, predicted setosa\n",
      "Actual : [5.7 4.4 1.5 0.4], Class Label setosa, predicted setosa\n",
      "Actual : [5.8 2.7 5.1 1.9], Class Label vercicolor, predicted vercicolor\n",
      "Actual : [4.6 3.2 1.4 0.2], Class Label setosa, predicted setosa\n",
      "Actual : [4.6 3.1 1.5 0.2], Class Label setosa, predicted setosa\n",
      "Actual : [6.  3.4 4.5 1.6], Class Label virginica, predicted virginica\n",
      "Actual : [5.7 3.8 1.7 0.3], Class Label setosa, predicted setosa\n",
      "Actual : [6.2 2.9 4.3 1.3], Class Label virginica, predicted virginica\n",
      "Actual : [6.4 2.9 4.3 1.3], Class Label virginica, predicted virginica\n",
      "Actual : [6.8 2.8 4.8 1.4], Class Label virginica, predicted vercicolor\n",
      "Actual : [6.9 3.1 4.9 1.5], Class Label virginica, predicted vercicolor\n",
      "Actual : [6.4 3.1 5.5 1.8], Class Label vercicolor, predicted vercicolor\n",
      "Actual : [5.2 3.5 1.5 0.2], Class Label setosa, predicted setosa\n",
      "Actual : [5.8 2.7 5.1 1.9], Class Label vercicolor, predicted vercicolor\n",
      "Actual : [6.  3.  4.8 1.8], Class Label vercicolor, predicted virginica\n",
      "Actual : [4.9 2.5 4.5 1.7], Class Label vercicolor, predicted virginica\n",
      "Actual : [4.4 3.  1.3 0.2], Class Label setosa, predicted setosa\n",
      "Actual : [6.  2.7 5.1 1.6], Class Label virginica, predicted virginica\n",
      "Actual : [4.7 3.2 1.3 0.2], Class Label setosa, predicted setosa\n",
      "Actual : [5.4 3.4 1.5 0.4], Class Label setosa, predicted setosa\n",
      "Actual : [6.8 3.2 5.9 2.3], Class Label vercicolor, predicted vercicolor\n",
      "Actual : [5.1 3.8 1.6 0.2], Class Label setosa, predicted setosa\n",
      "Actual : [7.4 2.8 6.1 1.9], Class Label vercicolor, predicted vercicolor\n",
      "Actual : [5.6 3.  4.5 1.5], Class Label virginica, predicted virginica\n",
      "Actual : [5.2 3.4 1.4 0.2], Class Label setosa, predicted setosa\n",
      "Actual : [5.9 3.  5.1 1.8], Class Label vercicolor, predicted vercicolor\n",
      "Actual : [5.7 2.8 4.1 1.3], Class Label virginica, predicted virginica\n",
      "Actual : [6.2 2.2 4.5 1.5], Class Label virginica, predicted virginica\n",
      "Actual : [6.7 3.1 4.7 1.5], Class Label virginica, predicted vercicolor\n",
      "Actual : [4.8 3.4 1.6 0.2], Class Label setosa, predicted setosa\n",
      "Actual : [4.4 3.2 1.3 0.2], Class Label setosa, predicted setosa\n",
      "Actual : [6.4 2.8 5.6 2.2], Class Label vercicolor, predicted vercicolor\n",
      "Actual : [4.8 3.4 1.9 0.2], Class Label setosa, predicted setosa\n",
      "Actual : [4.5 2.3 1.3 0.3], Class Label setosa, predicted setosa\n",
      "Actual : [6.1 2.8 4.  1.3], Class Label virginica, predicted virginica\n",
      "Actual : [7.  3.2 4.7 1.4], Class Label virginica, predicted vercicolor\n",
      "Actual : [6.1 2.9 4.7 1.4], Class Label virginica, predicted virginica\n",
      "Actual : [6.1 3.  4.9 1.8], Class Label vercicolor, predicted vercicolor\n",
      "Actual : [6.7 3.3 5.7 2.5], Class Label vercicolor, predicted vercicolor\n",
      "Actual : [6.1 2.8 4.7 1.2], Class Label virginica, predicted virginica\n",
      "Actual : [4.4 2.9 1.4 0.2], Class Label setosa, predicted setosa\n",
      "Actual : [6.  2.9 4.5 1.5], Class Label virginica, predicted virginica\n",
      "Actual : [6.7 3.  5.2 2.3], Class Label vercicolor, predicted vercicolor\n",
      "Actual : [6.2 2.8 4.8 1.8], Class Label vercicolor, predicted vercicolor\n",
      "Actual : [5.  2.3 3.3 1. ], Class Label virginica, predicted virginica\n",
      "Actual : [6.9 3.1 5.1 2.3], Class Label vercicolor, predicted vercicolor\n",
      "Actual : [5.4 3.  4.5 1.5], Class Label virginica, predicted virginica\n",
      "Actual : [6.4 3.2 4.5 1.5], Class Label virginica, predicted virginica\n",
      "Actual : [5.  3.4 1.5 0.2], Class Label setosa, predicted setosa\n",
      "Actual : [6.3 3.3 4.7 1.6], Class Label virginica, predicted virginica\n",
      "Actual : [5.5 2.4 3.8 1.1], Class Label virginica, predicted virginica\n",
      "Actual : [6.5 2.8 4.6 1.5], Class Label virginica, predicted virginica\n",
      "Actual : [5.1 3.7 1.5 0.4], Class Label setosa, predicted setosa\n",
      "Actual : [5.2 2.7 3.9 1.4], Class Label virginica, predicted virginica\n",
      "Actual : [5.4 3.4 1.7 0.2], Class Label setosa, predicted setosa\n",
      "Actual : [7.2 3.2 6.  1.8], Class Label vercicolor, predicted vercicolor\n",
      "Actual : [5.6 2.7 4.2 1.3], Class Label virginica, predicted virginica\n",
      "Actual : [5.8 2.7 3.9 1.2], Class Label virginica, predicted virginica\n",
      "Actual : [7.2 3.  5.8 1.6], Class Label vercicolor, predicted vercicolor\n",
      "Actual : [5.9 3.  4.2 1.5], Class Label virginica, predicted virginica\n"
     ]
    }
   ],
   "source": [
    "for(i) in range(len(x_test)):\n",
    "    print(f\"Actual : {x_test[i]}, Class Label {n(y_test[i])}, predicted {n(y_predgb[i])}\")"
   ]
  },
  {
   "cell_type": "code",
   "execution_count": null,
   "id": "3bd27a09",
   "metadata": {},
   "outputs": [],
   "source": []
  },
  {
   "cell_type": "code",
   "execution_count": null,
   "id": "c78a076d",
   "metadata": {},
   "outputs": [],
   "source": []
  },
  {
   "cell_type": "code",
   "execution_count": null,
   "id": "1c5ef295",
   "metadata": {},
   "outputs": [],
   "source": []
  },
  {
   "cell_type": "code",
   "execution_count": null,
   "id": "d96cd139",
   "metadata": {},
   "outputs": [],
   "source": []
  }
 ],
 "metadata": {
  "kernelspec": {
   "display_name": "Python 3 (ipykernel)",
   "language": "python",
   "name": "python3"
  },
  "language_info": {
   "codemirror_mode": {
    "name": "ipython",
    "version": 3
   },
   "file_extension": ".py",
   "mimetype": "text/x-python",
   "name": "python",
   "nbconvert_exporter": "python",
   "pygments_lexer": "ipython3",
   "version": "3.10.7"
  }
 },
 "nbformat": 4,
 "nbformat_minor": 5
}
