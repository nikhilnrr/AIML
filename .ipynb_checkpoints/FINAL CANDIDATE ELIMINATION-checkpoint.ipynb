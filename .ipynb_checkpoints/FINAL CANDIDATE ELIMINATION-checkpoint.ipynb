{
 "cells": [
  {
   "cell_type": "code",
   "execution_count": 1,
   "id": "bf606984",
   "metadata": {},
   "outputs": [],
   "source": [
    "import numpy as np\n",
    "import pandas as pd "
   ]
  },
  {
   "cell_type": "code",
   "execution_count": 2,
   "id": "fd88d878",
   "metadata": {},
   "outputs": [],
   "source": [
    "data = pd.read_csv(\"candidate.csv\")\n",
    "c = data.iloc[:,:-1].values\n",
    "t = data.iloc[:, -1].values"
   ]
  },
  {
   "cell_type": "code",
   "execution_count": 3,
   "id": "64dbec2d",
   "metadata": {},
   "outputs": [
    {
     "data": {
      "text/plain": [
       "array([['sunny', 'warm', 'high', 'strong', 'warm', 'same'],\n",
       "       ['rainy', 'cold', 'high', 'strong', 'warm', 'change'],\n",
       "       ['sunny', 'warm', 'high', 'strong', 'cool', 'change']],\n",
       "      dtype=object)"
      ]
     },
     "execution_count": 3,
     "metadata": {},
     "output_type": "execute_result"
    }
   ],
   "source": [
    "c"
   ]
  },
  {
   "cell_type": "code",
   "execution_count": 4,
   "id": "e2b46d6f",
   "metadata": {},
   "outputs": [
    {
     "data": {
      "text/plain": [
       "array([1, 0, 1], dtype=int64)"
      ]
     },
     "execution_count": 4,
     "metadata": {},
     "output_type": "execute_result"
    }
   ],
   "source": [
    "t"
   ]
  },
  {
   "cell_type": "code",
   "execution_count": 5,
   "id": "e1296c70",
   "metadata": {},
   "outputs": [
    {
     "ename": "IndentationError",
     "evalue": "expected an indented block after 'if' statement on line 13 (1922630892.py, line 14)",
     "output_type": "error",
     "traceback": [
      "\u001b[1;36m  Cell \u001b[1;32mIn[5], line 14\u001b[1;36m\u001b[0m\n\u001b[1;33m    sp_h[x] = \"?\"\u001b[0m\n\u001b[1;37m    ^\u001b[0m\n\u001b[1;31mIndentationError\u001b[0m\u001b[1;31m:\u001b[0m expected an indented block after 'if' statement on line 13\n"
     ]
    }
   ],
   "source": [
    "def lrn(c , t):\n",
    "    print(\"Initialization of Specific hypothesis\")\n",
    "    sp_h = c[0].copy()\n",
    "    print(sp_h)\n",
    "    \n",
    "    print(\"Initilization of general hypothesis\")\n",
    "    gh_h = [['?' for i in range(len(sp_h))] for i in range(len(sp_h))]\n",
    "    print(gh_h)\n",
    "    \n",
    "    for i, h in enumerate(c):\n",
    "        if(t[i] == 1):\n",
    "            for x in range(len(sp_h)):\n",
    "                if(h[x] != sp_h[x]):\n",
    "                    sp_h[x] = \"?\"\n",
    "                    gh_h[x][x] = \"?\"\n",
    "        if(t[i] == 0):\n",
    "            for x in range(len(sp_h)):\n",
    "                if(h[x]!=sp_h):\n",
    "                    gh_h[x][x] = sp_h[x]\n",
    "            else:\n",
    "                gh_h[x][x] = \"?\"\n",
    "    print(sp_h)\n",
    "    print(gh_h)\n",
    "    \n",
    "    \n",
    "    ind = [i for i, val in enumerate(gh_h) if val == [\"?\", \"?\", \"?\", \"?\", \"?\", \"?\"]]\n",
    "    for i in ind:\n",
    "        gh_h.remove[\"?\", \"?\", \"?\", \"?\", \"?\", \"?\"]\n",
    "        \n",
    "    return sp_h, gh_h"
   ]
  },
  {
   "cell_type": "code",
   "execution_count": null,
   "id": "76f78c17",
   "metadata": {},
   "outputs": [],
   "source": [
    "a, b = lrn(c, t)\n",
    "print(a)\n",
    "print(b)"
   ]
  }
 ],
 "metadata": {
  "kernelspec": {
   "display_name": "Python 3 (ipykernel)",
   "language": "python",
   "name": "python3"
  },
  "language_info": {
   "codemirror_mode": {
    "name": "ipython",
    "version": 3
   },
   "file_extension": ".py",
   "mimetype": "text/x-python",
   "name": "python",
   "nbconvert_exporter": "python",
   "pygments_lexer": "ipython3",
   "version": "3.10.7"
  }
 },
 "nbformat": 4,
 "nbformat_minor": 5
}
