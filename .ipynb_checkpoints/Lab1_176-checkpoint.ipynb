{
 "cells": [
  {
   "cell_type": "code",
   "execution_count": 1,
   "id": "0681c63a",
   "metadata": {},
   "outputs": [],
   "source": [
    "import pandas as pd\n",
    "import numpy as np"
   ]
  },
  {
   "cell_type": "code",
   "execution_count": 2,
   "id": "fab4cbc2",
   "metadata": {},
   "outputs": [],
   "source": [
    "def lrn(c,t):\n",
    "    sp_h=c[0].copy()\n",
    "    print('Inintialization of Specific Hypothesis :')\n",
    "    print(sp_h)\n",
    "    print('Inintialization of General Hypothesis  :')\n",
    "    g_h = [['?' for i in range(len(sp_h))]for i in range(len(sp_h))]\n",
    "    print(g_h)\n",
    "    for i,h in enumerate(c):\n",
    "        if t[i] == 1:\n",
    "            for x in range(len(sp_h)):\n",
    "                if h[x] != sp_h[x]:\n",
    "                    sp_h[x]='?'\n",
    "                    g_h[x][x]='?'\n",
    "        if t[i] == 0:\n",
    "            for x in range(len(sp_h)):\n",
    "                if h[x] != sp_h[x]:\n",
    "                    g_h[x][x]= sp_h[x]\n",
    "                else:\n",
    "                    g_h[x][x]='?'\n",
    "    print(f'Specific hypothesis: {sp_h}')\n",
    "    print(f'General hypothesis:  {g_h}')\n",
    "    indices = [i for i, val in enumerate(g_h) if val==['?','?','?','?','?','?']]\n",
    "    for i in indices:\n",
    "        g_h.remove(['?','?','?','?','?','?'])\n",
    "    return g_h, sp_h\n",
    "                    "
   ]
  },
  {
   "cell_type": "code",
   "execution_count": 3,
   "id": "4442c7ac",
   "metadata": {},
   "outputs": [
    {
     "name": "stdout",
     "output_type": "stream",
     "text": [
      "     sky airTemp humidity    wind water forecast  enjoySport\n",
      "0  Sunny    Warm   Normal  Strong  Warm     Same           1\n",
      "1  Sunny    Warm     High  Strong  Warm     Same           1\n",
      "2  Rainy    Cold     High  Strong  Warm   Change           0\n",
      "3  Sunny    Warm     High  Strong  Cool   Change           1\n"
     ]
    }
   ],
   "source": [
    "data = pd.read_csv('ce - ce.csv')\n",
    "print(data)\n",
    "c = data.iloc[:,:-1].values\n",
    "t = data.iloc[:,-1].values"
   ]
  },
  {
   "cell_type": "code",
   "execution_count": 4,
   "id": "51c8d215",
   "metadata": {},
   "outputs": [
    {
     "name": "stdout",
     "output_type": "stream",
     "text": [
      "Inintialization of Specific Hypothesis :\n",
      "['Sunny' 'Warm' 'Normal' 'Strong' 'Warm' 'Same']\n",
      "Inintialization of General Hypothesis  :\n",
      "[['?', '?', '?', '?', '?', '?'], ['?', '?', '?', '?', '?', '?'], ['?', '?', '?', '?', '?', '?'], ['?', '?', '?', '?', '?', '?'], ['?', '?', '?', '?', '?', '?'], ['?', '?', '?', '?', '?', '?']]\n",
      "Specific hypothesis: ['Sunny' 'Warm' '?' 'Strong' '?' '?']\n",
      "General hypothesis:  [['Sunny', '?', '?', '?', '?', '?'], ['?', 'Warm', '?', '?', '?', '?'], ['?', '?', '?', '?', '?', '?'], ['?', '?', '?', '?', '?', '?'], ['?', '?', '?', '?', '?', '?'], ['?', '?', '?', '?', '?', '?']]\n",
      "['Sunny' 'Warm' '?' 'Strong' '?' '?']\n",
      "[['Sunny', '?', '?', '?', '?', '?'], ['?', 'Warm', '?', '?', '?', '?']]\n"
     ]
    }
   ],
   "source": [
    "a, b = lrn(c,t)\n",
    "print(b)\n",
    "print(a)"
   ]
  },
  {
   "cell_type": "code",
   "execution_count": 5,
   "id": "c905dc75",
   "metadata": {},
   "outputs": [
    {
     "name": "stdout",
     "output_type": "stream",
     "text": [
      "[['Sunny' 'Warm' 'Normal' 'Strong' 'Warm' 'Same']\n",
      " ['Sunny' 'Warm' 'High' 'Strong' 'Warm' 'Same']\n",
      " ['Rainy' 'Cold' 'High' 'Strong' 'Warm' 'Change']\n",
      " ['Sunny' 'Warm' 'High' 'Strong' 'Cool' 'Change']]\n"
     ]
    }
   ],
   "source": [
    "print(c)"
   ]
  },
  {
   "cell_type": "code",
   "execution_count": 6,
   "id": "42de0849",
   "metadata": {},
   "outputs": [
    {
     "name": "stdout",
     "output_type": "stream",
     "text": [
      "[1 1 0 1]\n"
     ]
    }
   ],
   "source": [
    "print(t)"
   ]
  },
  {
   "cell_type": "code",
   "execution_count": null,
   "id": "c54124dd",
   "metadata": {},
   "outputs": [],
   "source": []
  }
 ],
 "metadata": {
  "kernelspec": {
   "display_name": "Python 3 (ipykernel)",
   "language": "python",
   "name": "python3"
  },
  "language_info": {
   "codemirror_mode": {
    "name": "ipython",
    "version": 3
   },
   "file_extension": ".py",
   "mimetype": "text/x-python",
   "name": "python",
   "nbconvert_exporter": "python",
   "pygments_lexer": "ipython3",
   "version": "3.10.7"
  }
 },
 "nbformat": 4,
 "nbformat_minor": 5
}
