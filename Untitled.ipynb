{
 "cells": [
  {
   "cell_type": "code",
   "execution_count": 1,
   "id": "ae2761a1",
   "metadata": {},
   "outputs": [],
   "source": [
    "import pandas as pd \n",
    "import numpy as np \n",
    "import seaborn as sns\n",
    "from sklearn.preprocessing import LabelEncoder"
   ]
  },
  {
   "cell_type": "code",
   "execution_count": 2,
   "id": "f98c9e1e",
   "metadata": {},
   "outputs": [],
   "source": [
    "data = pd.read_csv(\"trainingexamples.csv\")\n",
    "c = data.iloc[:, :-1].values\n",
    "t = data.iloc[:, -1].values\n"
   ]
  },
  {
   "cell_type": "code",
   "execution_count": 3,
   "id": "999c2ac9",
   "metadata": {},
   "outputs": [],
   "source": [
    "le = LabelEncoder()\n",
    "t = le.fit_transform(t)"
   ]
  },
  {
   "cell_type": "code",
   "execution_count": 4,
   "id": "3c8c8d27",
   "metadata": {},
   "outputs": [
    {
     "data": {
      "text/plain": [
       "array([1, 1, 0, 1])"
      ]
     },
     "execution_count": 4,
     "metadata": {},
     "output_type": "execute_result"
    }
   ],
   "source": [
    "t"
   ]
  },
  {
   "cell_type": "code",
   "execution_count": 5,
   "id": "c0e9692e",
   "metadata": {},
   "outputs": [],
   "source": [
    "def lrn(c, t):\n",
    "    sp_h = c[0].copy()\n",
    "    print(f'SPecific ghyp: {sp_h}')\n",
    "    gh_h = [[\"?\"for i in range(len(sp_h))] for i in range(len(sp_h))]\n",
    "    print(f'initialization of general hypi: {gh_h}')\n",
    "    \n",
    "    for i, h in enumerate(c):\n",
    "        if t[i] == 1:\n",
    "            for x in range(len(sp_h)):\n",
    "                if(h[x] != sp_h[x]):\n",
    "                    sp_h[x] = '?'\n",
    "                    gh_h[x][x] = '?'\n",
    "        if t[i] == 0:\n",
    "            for x in range(len(sp_h)):\n",
    "                if(h[x] == sp_h[x]):\n",
    "                    gh_h[x][x] = sp_h[x]\n",
    "                else:\n",
    "                    gh_h[x][x] = \"?\"\n",
    "    print(f'sp hyp{sp_h}')\n",
    "    print(f'general hyp {gh_h}')\n",
    "    \n",
    "    ind = [i for i, val in enumerate(gh_h) if val == [\"?\",\"?\",\"?\",\"?\",\"?\",\"?\"]]\n",
    "    for i in ind:\n",
    "        gh_h.remove([\"?\",\"?\",\"?\",\"?\",\"?\",\"?\"])\n",
    "    return gh_h, sp_h"
   ]
  },
  {
   "cell_type": "code",
   "execution_count": 6,
   "id": "96bb08d2",
   "metadata": {},
   "outputs": [
    {
     "name": "stdout",
     "output_type": "stream",
     "text": [
      "SPecific ghyp: ['Sunny' 'Warm' 'Normal' 'Strong' 'Warm' 'Same']\n",
      "initialization of general hypi: [['?', '?', '?', '?', '?', '?'], ['?', '?', '?', '?', '?', '?'], ['?', '?', '?', '?', '?', '?'], ['?', '?', '?', '?', '?', '?'], ['?', '?', '?', '?', '?', '?'], ['?', '?', '?', '?', '?', '?']]\n",
      "sp hyp['Sunny' 'Warm' '?' 'Strong' '?' '?']\n",
      "general hyp [['?', '?', '?', '?', '?', '?'], ['?', '?', '?', '?', '?', '?'], ['?', '?', '?', '?', '?', '?'], ['?', '?', '?', 'Strong', '?', '?'], ['?', '?', '?', '?', '?', '?'], ['?', '?', '?', '?', '?', '?']]\n",
      "[['?', '?', '?', 'Strong', '?', '?']]\n",
      "['Sunny' 'Warm' '?' 'Strong' '?' '?']\n"
     ]
    }
   ],
   "source": [
    "a, b = lrn(c, t)\n",
    "print(a)\n",
    "print(b)"
   ]
  }
 ],
 "metadata": {
  "kernelspec": {
   "display_name": "Python 3 (ipykernel)",
   "language": "python",
   "name": "python3"
  },
  "language_info": {
   "codemirror_mode": {
    "name": "ipython",
    "version": 3
   },
   "file_extension": ".py",
   "mimetype": "text/x-python",
   "name": "python",
   "nbconvert_exporter": "python",
   "pygments_lexer": "ipython3",
   "version": "3.10.7"
  }
 },
 "nbformat": 4,
 "nbformat_minor": 5
}
