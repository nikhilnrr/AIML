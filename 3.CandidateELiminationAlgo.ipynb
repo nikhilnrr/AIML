{
 "cells": [
  {
   "cell_type": "code",
   "execution_count": 1,
   "id": "a6882d58",
   "metadata": {},
   "outputs": [],
   "source": [
    "import pandas as pd \n",
    "from sklearn.preprocessing import LabelEncoder"
   ]
  },
  {
   "cell_type": "code",
   "execution_count": 2,
   "id": "fda1818a",
   "metadata": {},
   "outputs": [],
   "source": [
    "le = LabelEncoder()"
   ]
  },
  {
   "cell_type": "code",
   "execution_count": 3,
   "id": "f2c102b8",
   "metadata": {},
   "outputs": [],
   "source": [
    "data = pd.read_csv(\"trainingexamples.csv\")\n",
    "c = data.iloc[:, :-1].values\n",
    "t = data.iloc[:, -1].values"
   ]
  },
  {
   "cell_type": "code",
   "execution_count": 4,
   "id": "6e9177b9",
   "metadata": {},
   "outputs": [
    {
     "data": {
      "text/plain": [
       "array([['Sunny', 'Warm', 'Normal', 'Strong', 'Warm', 'Same'],\n",
       "       ['Sunny', 'Warm', 'High', 'Strong', 'Warm', 'Same'],\n",
       "       ['Rainy', 'Cold', 'High', 'Strong', 'Warm', 'Change'],\n",
       "       ['Sunny', 'Warm', 'High', 'Strong', 'Cool', 'Change']],\n",
       "      dtype=object)"
      ]
     },
     "execution_count": 4,
     "metadata": {},
     "output_type": "execute_result"
    }
   ],
   "source": [
    "c"
   ]
  },
  {
   "cell_type": "code",
   "execution_count": 5,
   "id": "abf18a24",
   "metadata": {},
   "outputs": [
    {
     "data": {
      "text/plain": [
       "array(['Yes', 'Yes', 'No', 'Yes'], dtype=object)"
      ]
     },
     "execution_count": 5,
     "metadata": {},
     "output_type": "execute_result"
    }
   ],
   "source": [
    "t"
   ]
  },
  {
   "cell_type": "code",
   "execution_count": 6,
   "id": "e6efc703",
   "metadata": {},
   "outputs": [],
   "source": [
    "t = le.fit_transform(t)"
   ]
  },
  {
   "cell_type": "code",
   "execution_count": 7,
   "id": "32a7b64c",
   "metadata": {},
   "outputs": [
    {
     "data": {
      "text/plain": [
       "array([1, 1, 0, 1])"
      ]
     },
     "execution_count": 7,
     "metadata": {},
     "output_type": "execute_result"
    }
   ],
   "source": [
    "t"
   ]
  },
  {
   "cell_type": "code",
   "execution_count": 8,
   "id": "bb7a4707",
   "metadata": {},
   "outputs": [],
   "source": [
    "def lrn(c,t):\n",
    "    sp_h = c[0].copy()\n",
    "    \n",
    "    print(\"Inintialization of Specific hypothesis: \")\n",
    "    print(sp_h)\n",
    "    \n",
    "    gh_h = [['?' for i in range(len(sp_h))] for i in range(len(sp_h))]\n",
    "    print(\"Initilization of general hypothesis\")\n",
    "    print(gh_h)\n",
    "    \n",
    "    \n",
    "    for i, h in enumerate(c):\n",
    "        if t[i] == 1:\n",
    "            for x in range(len(sp_h)):\n",
    "                if(h[x] != sp_h[x]):\n",
    "                    sp_h[x] = \"?\"\n",
    "                    gh_h[x][x] = \"?\"\n",
    "                \n",
    "        if t[i] == 0:\n",
    "            for x in range(len(sp_h)):\n",
    "                if(h[x] != sp_h[x]):\n",
    "                    gh_h[x][x] = sp_h[x]\n",
    "                else:\n",
    "                    gh_h[x][x] = \"?\"\n",
    "    print(f'Specific hypothesis: {sp_h}')\n",
    "    print(f'General hypothesis:  {gh_h}')\n",
    "    \n",
    "    ind = [i for i, val in enumerate(gh_h) if val == [\"?\",\"?\",\"?\",\"?\",\"?\",\"?\"]]\n",
    "    for i in ind:\n",
    "        gh_h.remove([\"?\",\"?\",\"?\",\"?\",\"?\",\"?\"])\n",
    "    return gh_h, sp_h"
   ]
  },
  {
   "cell_type": "code",
   "execution_count": 9,
   "id": "77a36df2",
   "metadata": {},
   "outputs": [
    {
     "name": "stdout",
     "output_type": "stream",
     "text": [
      "Inintialization of Specific hypothesis: \n",
      "['Sunny' 'Warm' 'Normal' 'Strong' 'Warm' 'Same']\n",
      "Initilization of general hypothesis\n",
      "[['?', '?', '?', '?', '?', '?'], ['?', '?', '?', '?', '?', '?'], ['?', '?', '?', '?', '?', '?'], ['?', '?', '?', '?', '?', '?'], ['?', '?', '?', '?', '?', '?'], ['?', '?', '?', '?', '?', '?']]\n",
      "Specific hypothesis: ['Sunny' 'Warm' '?' 'Strong' '?' '?']\n",
      "General hypothesis:  [['Sunny', '?', '?', '?', '?', '?'], ['?', 'Warm', '?', '?', '?', '?'], ['?', '?', '?', '?', '?', '?'], ['?', '?', '?', '?', '?', '?'], ['?', '?', '?', '?', '?', '?'], ['?', '?', '?', '?', '?', '?']]\n",
      "[['Sunny', '?', '?', '?', '?', '?'], ['?', 'Warm', '?', '?', '?', '?']]\n",
      "['Sunny' 'Warm' '?' 'Strong' '?' '?']\n"
     ]
    }
   ],
   "source": [
    "a,b = lrn(c,t)\n",
    "print(a)\n",
    "print(b)"
   ]
  },
  {
   "cell_type": "code",
   "execution_count": null,
   "id": "191a2390",
   "metadata": {},
   "outputs": [],
   "source": []
  }
 ],
 "metadata": {
  "kernelspec": {
   "display_name": "Python 3 (ipykernel)",
   "language": "python",
   "name": "python3"
  },
  "language_info": {
   "codemirror_mode": {
    "name": "ipython",
    "version": 3
   },
   "file_extension": ".py",
   "mimetype": "text/x-python",
   "name": "python",
   "nbconvert_exporter": "python",
   "pygments_lexer": "ipython3",
   "version": "3.10.7"
  }
 },
 "nbformat": 4,
 "nbformat_minor": 5
}
