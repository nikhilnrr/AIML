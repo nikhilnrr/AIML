{
 "cells": [
  {
   "cell_type": "code",
   "execution_count": 1,
   "id": "f0c62f60",
   "metadata": {},
   "outputs": [],
   "source": [
    "import numpy as np\n",
    "import pandas as pd \n",
    "import seaborn as sns "
   ]
  },
  {
   "cell_type": "code",
   "execution_count": 2,
   "id": "d25e4e2b",
   "metadata": {},
   "outputs": [],
   "source": [
    "il = 2\n",
    "hl = 3\n",
    "op_neu = 1 "
   ]
  },
  {
   "cell_type": "code",
   "execution_count": 3,
   "id": "92bad5b3",
   "metadata": {},
   "outputs": [
    {
     "name": "stdout",
     "output_type": "stream",
     "text": [
      "2\n",
      "3\n",
      "1\n"
     ]
    }
   ],
   "source": [
    "print(il)\n",
    "print(hl)\n",
    "print(op_neu)"
   ]
  },
  {
   "cell_type": "code",
   "execution_count": 4,
   "id": "0d76434f",
   "metadata": {},
   "outputs": [],
   "source": [
    "wh = np.random.uniform(size = (il, hl))\n",
    "bh = np.random.uniform(size = ( 1, hl))\n",
    "wout = np.random.uniform(size = (hl, op_neu))\n",
    "bout = np.random.uniform(size = (1, op_neu))"
   ]
  },
  {
   "cell_type": "code",
   "execution_count": 5,
   "id": "75f0354e",
   "metadata": {},
   "outputs": [
    {
     "name": "stdout",
     "output_type": "stream",
     "text": [
      "[[0.95598118 0.12713068 0.56151875]\n",
      " [0.07550474 0.29466613 0.77971902]]\n",
      "[[0.1694906  0.73085436 0.20553579]]\n",
      "[[0.00585332]\n",
      " [0.16404339]\n",
      " [0.68067587]]\n",
      "[[0.8639745]]\n"
     ]
    }
   ],
   "source": [
    "print(wh)\n",
    "print(bh)\n",
    "print(wout)\n",
    "print(bout)"
   ]
  },
  {
   "cell_type": "code",
   "execution_count": 6,
   "id": "a96e411d",
   "metadata": {},
   "outputs": [],
   "source": [
    "epoch = 7000\n",
    "lr = 0.1\n",
    "\n",
    "def sigmond(x):\n",
    "    return 1/(1+ np.exp(-x))\n",
    "\n",
    "def derivative_sigmond(x):\n",
    "    return x*(1-x)\n",
    "\n",
    "X = np.array(([2,9],[1,5],[3,6]), dtype = float)\n",
    "y = np.array(([92], [86], [89]), dtype = float)\n",
    "X = X/np.amax(X, axis=0)\n",
    "y = y/100"
   ]
  },
  {
   "cell_type": "code",
   "execution_count": 7,
   "id": "52a2e369",
   "metadata": {},
   "outputs": [],
   "source": [
    "for i in range(epoch):\n",
    "    hinp1 = np.dot(X, wh)\n",
    "    hinp = hinp1 + bh\n",
    "    hlayer_act = sigmond(hinp)\n",
    "    \n",
    "    outinp1 = np.dot(hlayer_act, wout)\n",
    "    outinp = outinp1 + bout\n",
    "    output = sigmond(outinp)\n",
    "    \n",
    "    EO = y-output\n",
    "    outgrad = derivative_sigmond(output)\n",
    "    d_output = EO * outgrad\n",
    "    EH = d_output.dot(wout.T)\n",
    "    \n",
    "    hiddengrad = derivative_sigmond(hlayer_act)\n",
    "    d_hiddenlayer = EH*hiddengrad\n",
    "    wout += hlayer_act.T.dot(d_output)*lr\n",
    "    wh += X.T.dot(d_hiddenlayer)*lr"
   ]
  },
  {
   "cell_type": "code",
   "execution_count": 8,
   "id": "d04116bf",
   "metadata": {},
   "outputs": [
    {
     "name": "stdout",
     "output_type": "stream",
     "text": [
      "[[0.66666667 1.        ]\n",
      " [0.33333333 0.55555556]\n",
      " [1.         0.66666667]]\n",
      "[[0.92]\n",
      " [0.86]\n",
      " [0.89]]\n",
      "[[0.89473284]\n",
      " [0.88078613]\n",
      " [0.8944181 ]]\n"
     ]
    }
   ],
   "source": [
    "print(str(X))\n",
    "print(str(y))\n",
    "print(output)"
   ]
  },
  {
   "cell_type": "code",
   "execution_count": null,
   "id": "324a5017",
   "metadata": {},
   "outputs": [],
   "source": []
  },
  {
   "cell_type": "code",
   "execution_count": null,
   "id": "362aef39",
   "metadata": {},
   "outputs": [],
   "source": []
  }
 ],
 "metadata": {
  "kernelspec": {
   "display_name": "Python 3 (ipykernel)",
   "language": "python",
   "name": "python3"
  },
  "language_info": {
   "codemirror_mode": {
    "name": "ipython",
    "version": 3
   },
   "file_extension": ".py",
   "mimetype": "text/x-python",
   "name": "python",
   "nbconvert_exporter": "python",
   "pygments_lexer": "ipython3",
   "version": "3.10.7"
  }
 },
 "nbformat": 4,
 "nbformat_minor": 5
}
