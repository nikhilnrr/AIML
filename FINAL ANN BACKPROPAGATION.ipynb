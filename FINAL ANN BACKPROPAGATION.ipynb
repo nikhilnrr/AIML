{
 "cells": [
  {
   "cell_type": "code",
   "execution_count": 1,
   "id": "e0618d67",
   "metadata": {},
   "outputs": [],
   "source": [
    "import pandas as pd \n",
    "import numpy as np "
   ]
  },
  {
   "cell_type": "code",
   "execution_count": 2,
   "id": "a7d4fb58",
   "metadata": {},
   "outputs": [],
   "source": [
    "ip = 2\n",
    "hl = 3 \n",
    "op_neu = 1 \n"
   ]
  },
  {
   "cell_type": "code",
   "execution_count": 3,
   "id": "e7a7170c",
   "metadata": {},
   "outputs": [],
   "source": [
    "wh = np.random.uniform(size = (ip, hl))\n",
    "bh = np.random.uniform(size = (1, hl))\n",
    "wout = np.random.uniform(size = (hl, op_neu))\n",
    "bout = np.random.uniform(size = (1, op_neu))"
   ]
  },
  {
   "cell_type": "code",
   "execution_count": 4,
   "id": "8e526a52",
   "metadata": {},
   "outputs": [
    {
     "name": "stdout",
     "output_type": "stream",
     "text": [
      "[[0.22397372 0.7129692  0.41215411]\n",
      " [0.0892056  0.0469989  0.2840118 ]]\n",
      "[[0.85951133 0.76491659 0.2464307 ]]\n",
      "[[0.42504777]\n",
      " [0.32817306]\n",
      " [0.49731879]]\n",
      "[[0.54441376]]\n"
     ]
    }
   ],
   "source": [
    "print(wh)\n",
    "print(bh)\n",
    "print(wout)\n",
    "print(bout)"
   ]
  },
  {
   "cell_type": "code",
   "execution_count": 5,
   "id": "97fd7f5d",
   "metadata": {},
   "outputs": [],
   "source": [
    "epoch = 7000\n",
    "lr = 0.1\n",
    "\n",
    "def sigmond(x):\n",
    "    return 1/(1+np.exp(-x))\n",
    "def derivative_sigmond(x):\n",
    "    return x*(1-x)\n",
    "\n",
    "x = np.array(([2,9], [1,5], [3,6]), dtype= float)\n",
    "y = np.array(([92], [86], [89]), dtype = float)\n",
    "x = x/np.amax(x, axis = 0)\n",
    "y = y/100"
   ]
  },
  {
   "cell_type": "code",
   "execution_count": 6,
   "id": "71e56d24",
   "metadata": {},
   "outputs": [],
   "source": [
    "for i in range(epoch):\n",
    "    hinp1 = np.dot(x, wh)\n",
    "    hinp = hinp1 + bh\n",
    "    hlayer_act = sigmond(hinp)\n",
    "    \n",
    "    outinp1 = np.dot(hlayer_act, wout)\n",
    "    outinp = outinp1 + bout\n",
    "    output = sigmond(outinp)\n",
    "    \n",
    "    EO = y - output\n",
    "    outgrad = derivative_sigmond(output)\n",
    "    d_output = EO * outgrad\n",
    "    \n",
    "    EH = d_output.dot(wout.T)\n",
    "    hiddengrad = derivative_sigmond(hlayer_act)\n",
    "    d_hidden = EH * hiddengrad\n",
    "    \n",
    "    wout += hlayer_act.T.dot(d_output)\n",
    "    wh += x.T.dot(d_hidden)*lr"
   ]
  },
  {
   "cell_type": "code",
   "execution_count": 7,
   "id": "e4e80720",
   "metadata": {},
   "outputs": [
    {
     "name": "stdout",
     "output_type": "stream",
     "text": [
      "Normalized input: \n",
      "[[0.66666667 1.        ]\n",
      " [0.33333333 0.55555556]\n",
      " [1.         0.66666667]]\n",
      "Actual output: \n",
      "[[0.92]\n",
      " [0.86]\n",
      " [0.89]]\n",
      "Output: \n",
      "[[0.89314655]\n",
      " [0.88081003]\n",
      " [0.89552598]]\n"
     ]
    }
   ],
   "source": [
    "print(\"Normalized input: \\n\"+str(x))\n",
    "print(\"Actual output: \\n\"+str(y))\n",
    "print(\"Output: \\n\"+str(output))"
   ]
  },
  {
   "cell_type": "code",
   "execution_count": null,
   "id": "a33242ed",
   "metadata": {},
   "outputs": [],
   "source": []
  }
 ],
 "metadata": {
  "kernelspec": {
   "display_name": "Python 3 (ipykernel)",
   "language": "python",
   "name": "python3"
  },
  "language_info": {
   "codemirror_mode": {
    "name": "ipython",
    "version": 3
   },
   "file_extension": ".py",
   "mimetype": "text/x-python",
   "name": "python",
   "nbconvert_exporter": "python",
   "pygments_lexer": "ipython3",
   "version": "3.10.7"
  }
 },
 "nbformat": 4,
 "nbformat_minor": 5
}
