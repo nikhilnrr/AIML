{
 "cells": [
  {
   "cell_type": "code",
   "execution_count": 1,
   "id": "9a8aed00",
   "metadata": {},
   "outputs": [],
   "source": [
    "import numpy as np\n",
    "import pandas as pd "
   ]
  },
  {
   "cell_type": "code",
   "execution_count": 2,
   "id": "248c7657",
   "metadata": {},
   "outputs": [],
   "source": [
    "data = pd.read_csv(\"candidate.csv\")\n",
    "c = data.iloc[:, : -1].values\n",
    "t = data.iloc[: , -1].values"
   ]
  },
  {
   "cell_type": "code",
   "execution_count": 3,
   "id": "e3772b06",
   "metadata": {},
   "outputs": [
    {
     "data": {
      "text/plain": [
       "array([['sunny', 'warm', 'high', 'strong', 'warm', 'same'],\n",
       "       ['rainy', 'cold', 'high', 'strong', 'warm', 'change'],\n",
       "       ['sunny', 'warm', 'high', 'strong', 'cool', 'change']],\n",
       "      dtype=object)"
      ]
     },
     "execution_count": 3,
     "metadata": {},
     "output_type": "execute_result"
    }
   ],
   "source": [
    "c"
   ]
  },
  {
   "cell_type": "code",
   "execution_count": 4,
   "id": "367a7bbc",
   "metadata": {},
   "outputs": [
    {
     "data": {
      "text/plain": [
       "array([1, 0, 1], dtype=int64)"
      ]
     },
     "execution_count": 4,
     "metadata": {},
     "output_type": "execute_result"
    }
   ],
   "source": [
    "t"
   ]
  },
  {
   "cell_type": "code",
   "execution_count": 5,
   "id": "694f0cb0",
   "metadata": {},
   "outputs": [],
   "source": [
    "def lrn(c , t):\n",
    "    print(\"Initialization of Specific hypothesis\")\n",
    "    sp_h = c[0].copy()\n",
    "    print(sp_h)\n",
    "    \n",
    "    print(\"Initilization of general hypothesis\")\n",
    "    gh_h = [['?' for i in range(len(sp_h))] for i in range(len(sp_h))]\n",
    "    print(gh_h)\n",
    "    \n",
    "    for i, h in enumerate(c):\n",
    "        if(t[i] == 1):\n",
    "            for x in range(len(sp_h)):\n",
    "                if(h[x] != sp_h[x]):\n",
    "                    sp_h[x] = \"?\"\n",
    "                    gh_h[x][x] = \"?\"\n",
    "        if(t[i] == 0):\n",
    "            for x in range(len(sp_h)):\n",
    "                if(h[x]!=sp_h[x]):\n",
    "                    gh_h[x][x] = sp_h[x]\n",
    "            else:\n",
    "                gh_h[x][x] = \"?\"\n",
    "    print(f'Specific Hypothesis{sp_h}')\n",
    "    print(f'General Hypothesis{gh_h}')\n",
    "    \n",
    "    \n",
    "    ind = [i for i, val in enumerate(gh_h) if val == [\"?\", \"?\", \"?\", \"?\", \"?\", \"?\"]]\n",
    "    for i in ind:\n",
    "        gh_h.remove([\"?\", \"?\", \"?\", \"?\", \"?\", \"?\"])\n",
    "    return sp_h, gh_h"
   ]
  },
  {
   "cell_type": "code",
   "execution_count": 6,
   "id": "2b5ed86f",
   "metadata": {},
   "outputs": [
    {
     "name": "stdout",
     "output_type": "stream",
     "text": [
      "Initialization of Specific hypothesis\n",
      "['sunny' 'warm' 'high' 'strong' 'warm' 'same']\n",
      "Initilization of general hypothesis\n",
      "[['?', '?', '?', '?', '?', '?'], ['?', '?', '?', '?', '?', '?'], ['?', '?', '?', '?', '?', '?'], ['?', '?', '?', '?', '?', '?'], ['?', '?', '?', '?', '?', '?'], ['?', '?', '?', '?', '?', '?']]\n",
      "Specific Hypothesis['sunny' 'warm' 'high' 'strong' '?' '?']\n",
      "General Hypothesis[['sunny', '?', '?', '?', '?', '?'], ['?', 'warm', '?', '?', '?', '?'], ['?', '?', '?', '?', '?', '?'], ['?', '?', '?', '?', '?', '?'], ['?', '?', '?', '?', '?', '?'], ['?', '?', '?', '?', '?', '?']]\n",
      "Final Specific Hypothesis:['sunny' 'warm' 'high' 'strong' '?' '?']\n",
      "Final general Hypothesis:[['sunny', '?', '?', '?', '?', '?'], ['?', 'warm', '?', '?', '?', '?']]\n"
     ]
    }
   ],
   "source": [
    "a, b = lrn(c, t)\n",
    "print(\"Final Specific Hypothesis:\"+ str(a))\n",
    "print(\"Final general Hypothesis:\" +str(b))"
   ]
  },
  {
   "cell_type": "code",
   "execution_count": null,
   "id": "66034a18",
   "metadata": {},
   "outputs": [],
   "source": []
  }
 ],
 "metadata": {
  "kernelspec": {
   "display_name": "Python 3 (ipykernel)",
   "language": "python",
   "name": "python3"
  },
  "language_info": {
   "codemirror_mode": {
    "name": "ipython",
    "version": 3
   },
   "file_extension": ".py",
   "mimetype": "text/x-python",
   "name": "python",
   "nbconvert_exporter": "python",
   "pygments_lexer": "ipython3",
   "version": "3.10.7"
  }
 },
 "nbformat": 4,
 "nbformat_minor": 5
}
