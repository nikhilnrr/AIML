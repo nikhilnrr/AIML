{
 "cells": [
  {
   "cell_type": "code",
   "execution_count": 1,
   "id": "a54a4dfd",
   "metadata": {},
   "outputs": [],
   "source": [
    "import numpy as np\n",
    "import pandas as pd\n",
    "import seaborn as sns"
   ]
  },
  {
   "cell_type": "code",
   "execution_count": 2,
   "id": "d26b353d",
   "metadata": {},
   "outputs": [],
   "source": [
    "il = 2\n",
    "hl = 3\n",
    "op_neu = 1"
   ]
  },
  {
   "cell_type": "code",
   "execution_count": 3,
   "id": "74d1d5c5",
   "metadata": {},
   "outputs": [
    {
     "name": "stdout",
     "output_type": "stream",
     "text": [
      "Number of neurons in input layer : 2\n",
      "Number of neurons in hidden layer   : 3\n",
      "Number of neurons in output layer   : 1\n"
     ]
    }
   ],
   "source": [
    "print(f'Number of neurons in input layer : {il}')\n",
    "print(f'Number of neurons in hidden layer   : {hl}')\n",
    "print(f'Number of neurons in output layer   : {op_neu}')"
   ]
  },
  {
   "cell_type": "code",
   "execution_count": 4,
   "id": "c820207c",
   "metadata": {},
   "outputs": [],
   "source": [
    "wh=np.random.uniform(size=(il,hl))\n",
    "bh=np.random.uniform(size=(1,hl))\n",
    "wout=np.random.uniform(size=(hl,op_neu))\n",
    "bout=np.random.uniform(size=(1,op_neu))"
   ]
  },
  {
   "cell_type": "code",
   "execution_count": 5,
   "id": "aaf35b87",
   "metadata": {},
   "outputs": [
    {
     "name": "stdout",
     "output_type": "stream",
     "text": [
      "Weights from input layer to hidden layer :\n",
      " [[0.68564063 0.01642175 0.73459746]\n",
      " [0.07984453 0.99846607 0.13400184]]\n",
      "Bias in input layer to hidden layer :\n",
      " [[0.28194127 0.40758587 0.55417383]]\n",
      "Weights from hidden layer to output layer:\n",
      " [[0.74938861]\n",
      " [0.40159321]\n",
      " [0.36378862]]\n",
      "Bias in hidden layer to output layer:\n",
      " [[0.83788546]]\n"
     ]
    }
   ],
   "source": [
    "print(f'Weights from input layer to hidden layer :\\n {wh}')\n",
    "print(f'Bias in input layer to hidden layer :\\n {bh}')\n",
    "print(f'Weights from hidden layer to output layer:\\n {wout}')\n",
    "print(f'Bias in hidden layer to output layer:\\n {bout}')"
   ]
  },
  {
   "cell_type": "code",
   "execution_count": 6,
   "id": "14e1ef37",
   "metadata": {},
   "outputs": [],
   "source": [
    "epoch=7000              \n",
    "lr=0.1 \n",
    "\n",
    "def sigmoid (x):\n",
    "    return 1/(1 + np.exp(-x))\n",
    "\n",
    "def derivatives_sigmoid(x):\n",
    "    return x * (1 - x)"
   ]
  },
  {
   "cell_type": "code",
   "execution_count": 7,
   "id": "03d7f08e",
   "metadata": {},
   "outputs": [],
   "source": [
    "X = np.array(([2, 9], [1, 5], [3, 6]), dtype=float)\n",
    "y = np.array(([92], [86], [89]), dtype=float)\n",
    "X = X/np.amax(X,axis=0) \n",
    "y = y/100"
   ]
  },
  {
   "cell_type": "code",
   "execution_count": 12,
   "id": "b1ffd3ee",
   "metadata": {},
   "outputs": [],
   "source": [
    "for i in range(epoch):\n",
    "\n",
    "    hinp1=np.dot(X,wh)\n",
    "    hinp=hinp1 + bh\n",
    "    hlayer_act = sigmoid(hinp)\n",
    "    outinp1=np.dot(hlayer_act,wout)\n",
    "    outinp= outinp1+ bout\n",
    "    output = sigmoid(outinp)\n",
    "\n",
    "    EO = y-output\n",
    "    outgrad = derivatives_sigmoid(output)\n",
    "    d_output = EO* outgrad\n",
    "    EH = d_output.dot(wout.T)\n",
    "\n",
    "    hiddengrad = derivatives_sigmoid(hlayer_act)\n",
    "    d_hiddenlayer = EH * hiddengrad\n",
    "    \n",
    "    wout += hlayer_act.T.dot(d_output) *lr\n",
    "    wh += X.T.dot(d_hiddenlayer) *lr"
   ]
  },
  {
   "cell_type": "code",
   "execution_count": 9,
   "id": "e8550dab",
   "metadata": {},
   "outputs": [
    {
     "name": "stdout",
     "output_type": "stream",
     "text": [
      "Input: \n",
      "[[0.66666667 1.        ]\n",
      " [0.33333333 0.55555556]\n",
      " [1.         0.66666667]]\n",
      "Actual Output: \n",
      "[[0.92]\n",
      " [0.86]\n",
      " [0.89]]\n",
      "Predicted Output: \n",
      " [[0.89375177]\n",
      " [0.88154704]\n",
      " [0.894972  ]]\n"
     ]
    }
   ],
   "source": [
    "print(\"Input: \\n\" + str(X))\n",
    "print(\"Actual Output: \\n\" + str(y))\n",
    "print(\"Predicted Output: \\n\" ,output)"
   ]
  }
 ],
 "metadata": {
  "kernelspec": {
   "display_name": "Python 3 (ipykernel)",
   "language": "python",
   "name": "python3"
  },
  "language_info": {
   "codemirror_mode": {
    "name": "ipython",
    "version": 3
   },
   "file_extension": ".py",
   "mimetype": "text/x-python",
   "name": "python",
   "nbconvert_exporter": "python",
   "pygments_lexer": "ipython3",
   "version": "3.10.7"
  }
 },
 "nbformat": 4,
 "nbformat_minor": 5
}
