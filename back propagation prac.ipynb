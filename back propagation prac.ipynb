{
 "cells": [
  {
   "cell_type": "code",
   "execution_count": 1,
   "id": "8de795f7",
   "metadata": {},
   "outputs": [],
   "source": [
    "import numpy as np\n",
    "import pandas as pd \n",
    "import seaborn as sns"
   ]
  },
  {
   "cell_type": "code",
   "execution_count": 2,
   "id": "f78a5389",
   "metadata": {},
   "outputs": [],
   "source": [
    "il = 2\n",
    "hl = 3\n",
    "op_neu = 1 "
   ]
  },
  {
   "cell_type": "code",
   "execution_count": 3,
   "id": "afecde58",
   "metadata": {},
   "outputs": [],
   "source": [
    "wh = np.random.uniform(size =(il, hl))\n",
    "bh = np.random.uniform(size =(1, hl))\n",
    "wout = np.random.uniform(size =(hl, op_neu))\n",
    "bout = np.random.uniform(size =(1, op_neu))"
   ]
  },
  {
   "cell_type": "code",
   "execution_count": 4,
   "id": "71d204f9",
   "metadata": {},
   "outputs": [],
   "source": [
    "epoch = 7000\n",
    "lr = 0.1\n",
    "\n",
    "def sigmoid(x):\n",
    "    return 1/(1+np.exp(-x))\n",
    "def derivative_sigmoid(x):\n",
    "    return x*(1-x)\n",
    "\n",
    "X = np.array(([2,9], [1,5], [3,6]), dtype= float)\n",
    "y = np.array(([92], [86], [89]), dtype = float)\n",
    "X = X/ np.amax(X, axis=0)\n",
    "y= y/100"
   ]
  },
  {
   "cell_type": "code",
   "execution_count": 5,
   "id": "15e6b52b",
   "metadata": {},
   "outputs": [],
   "source": [
    "for i in range(epoch):\n",
    "    hinp1 = np.dot(X, wh)\n",
    "    hinp = hinp1 + bh\n",
    "    hlayer_act = sigmoid(hinp)\n",
    "    outinp1 = np.dot(hlayer_act, wout)\n",
    "    outinp = outinp1 + bout\n",
    "    output = sigmoid(outinp)\n",
    "    \n",
    "    EO = y-output\n",
    "    outgrad = derivative_sigmoid(output)\n",
    "    d_output = EO*outgrad\n",
    "    EH = d_output.dot(wout.T)\n",
    "    \n",
    "    hiddengrad = derivative_sigmoid(hlayer_act)\n",
    "    d_hiddenlayer = EH * hiddengrad\n",
    "    \n",
    "    wout += hlayer_act.T.dot(d_output)*lr\n",
    "    wh += X.T.dot(d_hiddenlayer)*lr"
   ]
  },
  {
   "cell_type": "code",
   "execution_count": 8,
   "id": "caa25ebd",
   "metadata": {},
   "outputs": [
    {
     "name": "stdout",
     "output_type": "stream",
     "text": [
      "input:[[0.66666667 1.        ]\n",
      " [0.33333333 0.55555556]\n",
      " [1.         0.66666667]]\n",
      "actual[[0.92]\n",
      " [0.86]\n",
      " [0.89]]\n",
      "predicted [[0.73610163]\n",
      " [0.72271149]\n",
      " [0.73136129]]\n"
     ]
    }
   ],
   "source": [
    "print(\"input:\"+str(X))\n",
    "print(\"actual\"+ str(y))\n",
    "print(\"predicted\", output)"
   ]
  },
  {
   "cell_type": "code",
   "execution_count": null,
   "id": "e4c9ae58",
   "metadata": {},
   "outputs": [],
   "source": []
  }
 ],
 "metadata": {
  "kernelspec": {
   "display_name": "Python 3 (ipykernel)",
   "language": "python",
   "name": "python3"
  },
  "language_info": {
   "codemirror_mode": {
    "name": "ipython",
    "version": 3
   },
   "file_extension": ".py",
   "mimetype": "text/x-python",
   "name": "python",
   "nbconvert_exporter": "python",
   "pygments_lexer": "ipython3",
   "version": "3.10.7"
  }
 },
 "nbformat": 4,
 "nbformat_minor": 5
}
