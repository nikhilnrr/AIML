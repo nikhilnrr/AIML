{
 "cells": [
  {
   "cell_type": "code",
   "execution_count": 1,
   "id": "8fb7951d",
   "metadata": {
    "scrolled": true
   },
   "outputs": [
    {
     "name": "stdout",
     "output_type": "stream",
     "text": [
      "Hello World!!\n"
     ]
    }
   ],
   "source": [
    "print('Hello World!!')"
   ]
  },
  {
   "cell_type": "markdown",
   "id": "4f1a72f9",
   "metadata": {},
   "source": [
    "### using variable to store data"
   ]
  },
  {
   "cell_type": "code",
   "execution_count": 4,
   "id": "51e8d6a7",
   "metadata": {},
   "outputs": [
    {
     "name": "stdout",
     "output_type": "stream",
     "text": [
      "My Name is Ashish, I am 22 Years old\n"
     ]
    }
   ],
   "source": [
    "name = \"Ashish\"\n",
    "age = \"22\"\n",
    "\n",
    "print(\"My Name is \" + name + \", I am \" + age + \" Years old\")"
   ]
  },
  {
   "cell_type": "markdown",
   "id": "058d7145",
   "metadata": {},
   "source": [
    "## Taking User input\n",
    "### Example of Taking User input in Python "
   ]
  },
  {
   "cell_type": "code",
   "execution_count": 5,
   "id": "e241f266",
   "metadata": {},
   "outputs": [
    {
     "name": "stdout",
     "output_type": "stream",
     "text": [
      "Enter your Name: Ashish\n",
      "Hello Ashish!\n"
     ]
    }
   ],
   "source": [
    "name = input(\"Enter your Name: \")\n",
    "print(\"Hello \" + name + \"!\")"
   ]
  },
  {
   "cell_type": "markdown",
   "id": "81e8caac",
   "metadata": {},
   "source": [
    "### Basic Arithmetic operations"
   ]
  },
  {
   "cell_type": "code",
   "execution_count": 16,
   "id": "955ddd15",
   "metadata": {},
   "outputs": [
    {
     "name": "stdout",
     "output_type": "stream",
     "text": [
      "Enter a number: 15\n",
      "Enter another number: 6\n",
      "The addition of two numbers 15  and  6 is 21\n",
      "The subtraction of two numbers 15  and  6 is 9\n",
      "The multiplication of two numbers 15  and  6 is 90\n",
      "The modulus of two numbers 15  and  6 is 3\n",
      "The Divison of two numbers 15  and  6 is 2.5\n"
     ]
    }
   ],
   "source": [
    "def add(x, y):\n",
    "    return x+y\n",
    "\n",
    "def sub(x, y):\n",
    "    return x-y\n",
    "\n",
    "def mul(x, y):\n",
    "    return x*y\n",
    "\n",
    "def mod(x, y):\n",
    "    try:\n",
    "        return x%y\n",
    "    except:\n",
    "        print(\"Enter the Valid Divisor\")\n",
    "        \n",
    "def div(x, y):\n",
    "    try:\n",
    "        return x/y\n",
    "    except:\n",
    "        print(\"Enter the Valid Divisior\")\n",
    "        \n",
    "num1 = int(input(\"Enter a number: \"))\n",
    "num2 = int(input(\"Enter another number: \"))\n",
    "\n",
    "print(\"The addition of two numbers\", num1 ,\" and \", num2, \"is\", add(num1, num2))\n",
    "print(\"The subtraction of two numbers\", num1 ,\" and \", num2, \"is\", sub(num1, num2))\n",
    "print(\"The multiplication of two numbers\", num1 ,\" and \", num2, \"is\", mul(num1, num2))\n",
    "print(\"The modulus of two numbers\", num1 ,\" and \", num2, \"is\", mod(num1, num2))\n",
    "print(\"The Divison of two numbers\", num1 ,\" and \", num2, \"is\", div(num1, num2))\n"
   ]
  },
  {
   "cell_type": "markdown",
   "id": "98a0e4e4",
   "metadata": {},
   "source": [
    "### Check number is Odd or Even"
   ]
  },
  {
   "cell_type": "code",
   "execution_count": 9,
   "id": "c13c892d",
   "metadata": {},
   "outputs": [
    {
     "name": "stdout",
     "output_type": "stream",
     "text": [
      "Enter the Number: 2\n",
      "The given Number 2 is even\n"
     ]
    }
   ],
   "source": [
    "def OddorEven(x):\n",
    "    if(int(x)%2 == 0):\n",
    "        print(\"The given Number\", x, \"is even\")\n",
    "    else:\n",
    "        print(\"The given Number\", x , \"is odd\")\n",
    "        \n",
    "number = int(input(\"Enter the Number: \"))\n",
    "OddorEven(number)"
   ]
  },
  {
   "cell_type": "markdown",
   "id": "99d14f81",
   "metadata": {},
   "source": [
    "### Factorial of given number"
   ]
  },
  {
   "cell_type": "code",
   "execution_count": 12,
   "id": "2876d7c9",
   "metadata": {},
   "outputs": [
    {
     "name": "stdout",
     "output_type": "stream",
     "text": [
      "Enter the number: 4\n",
      "The Factorial of 4  is 24\n"
     ]
    }
   ],
   "source": [
    "def fact(x):\n",
    "    if(x == 0):\n",
    "        return 1\n",
    "    else:\n",
    "        return(x*fact(x-1))\n",
    "number = int(input(\"Enter the number: \"))\n",
    "print(\"The Factorial of\", number ,\" is\", fact(number))"
   ]
  },
  {
   "cell_type": "markdown",
   "id": "f0423990",
   "metadata": {},
   "source": [
    "### Fibonacci"
   ]
  },
  {
   "cell_type": "code",
   "execution_count": 15,
   "id": "6e89524c",
   "metadata": {},
   "outputs": [
    {
     "name": "stdout",
     "output_type": "stream",
     "text": [
      "Enter the number: 5\n",
      "Fibonacci series \n",
      "0\n",
      "1\n",
      "1\n",
      "2\n",
      "3\n"
     ]
    }
   ],
   "source": [
    "def fib(x):\n",
    "    if(x <= 1):\n",
    "        return x\n",
    "    else:\n",
    "        return(fib(x-1)+fib(x-2))\n",
    "number = int(input(\"Enter the number: \"))\n",
    "print(\"Fibonacci series \")\n",
    "for i in range(number):\n",
    "    print(fib(i))"
   ]
  },
  {
   "cell_type": "markdown",
   "id": "6e946198",
   "metadata": {},
   "source": [
    "### Mad Lib Game"
   ]
  },
  {
   "cell_type": "code",
   "execution_count": 17,
   "id": "39125bf1",
   "metadata": {},
   "outputs": [
    {
     "name": "stdout",
     "output_type": "stream",
     "text": [
      "Enter a color: Red\n",
      "Enter a Plural Noun: violets\n",
      "Enter a Programming: Python\n",
      "Roses are Red\n",
      "violets are blue\n",
      "I love Python\n"
     ]
    }
   ],
   "source": [
    "color = input(\"Enter a color: \")\n",
    "plural_noun = input(\"Enter a Plural Noun: \")\n",
    "programming = input(\"Enter a Programming: \")\n",
    "\n",
    "print(\"Roses are \" + color)\n",
    "print(plural_noun + \" are blue\")\n",
    "print(\"I love \" + programming)"
   ]
  },
  {
   "cell_type": "markdown",
   "id": "36ac278f",
   "metadata": {},
   "source": [
    "### Lists"
   ]
  },
  {
   "cell_type": "code",
   "execution_count": 22,
   "id": "f2008367",
   "metadata": {},
   "outputs": [
    {
     "name": "stdout",
     "output_type": "stream",
     "text": [
      "['Karthik', 'Vaibhav', 'Vishnu']\n"
     ]
    }
   ],
   "source": [
    "friends = [\"Akash\", \"Vishnu\", \"Karthik\", \"Vaibhav\"] ## Index 0 = Akash, 1 = vishnu, 2 = karthik\n",
    "friends.sort()\n",
    "print(friends) ## friends[0] prints Akash, [1:] prints list values from index 1 onwards till n;\n"
   ]
  },
  {
   "cell_type": "code",
   "execution_count": null,
   "id": "d26990fe",
   "metadata": {},
   "outputs": [],
   "source": []
  },
  {
   "cell_type": "code",
   "execution_count": null,
   "id": "34ca5f0c",
   "metadata": {},
   "outputs": [],
   "source": []
  }
 ],
 "metadata": {
  "kernelspec": {
   "display_name": "Python 3 (ipykernel)",
   "language": "python",
   "name": "python3"
  },
  "language_info": {
   "codemirror_mode": {
    "name": "ipython",
    "version": 3
   },
   "file_extension": ".py",
   "mimetype": "text/x-python",
   "name": "python",
   "nbconvert_exporter": "python",
   "pygments_lexer": "ipython3",
   "version": "3.10.0"
  }
 },
 "nbformat": 4,
 "nbformat_minor": 5
}
